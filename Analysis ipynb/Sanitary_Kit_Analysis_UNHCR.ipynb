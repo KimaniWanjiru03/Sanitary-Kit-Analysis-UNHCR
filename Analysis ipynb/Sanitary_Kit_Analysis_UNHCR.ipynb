{
  "nbformat": 4,
  "nbformat_minor": 0,
  "metadata": {
    "colab": {
      "provenance": []
    },
    "kernelspec": {
      "name": "python3",
      "display_name": "Python 3"
    },
    "language_info": {
      "name": "python"
    }
  },
  "cells": [
    {
      "cell_type": "code",
      "source": [
        "from google.colab import drive\n",
        "drive.mount('/content/drive')"
      ],
      "metadata": {
        "colab": {
          "base_uri": "https://localhost:8080/"
        },
        "id": "qpQPPqLiIQp0",
        "outputId": "86fcab81-2436-4290-a7b5-c61f69386946"
      },
      "execution_count": 2,
      "outputs": [
        {
          "output_type": "stream",
          "name": "stdout",
          "text": [
            "Drive already mounted at /content/drive; to attempt to forcibly remount, call drive.mount(\"/content/drive\", force_remount=True).\n"
          ]
        }
      ]
    },
    {
      "cell_type": "code",
      "source": [
        "%cd /content/drive/MyDrive/Colab Notebooks\n"
      ],
      "metadata": {
        "colab": {
          "base_uri": "https://localhost:8080/"
        },
        "id": "llijFw2cttD7",
        "outputId": "40aad2dc-d4d7-4151-f0e3-ecfb2acdcfb5"
      },
      "execution_count": 4,
      "outputs": [
        {
          "output_type": "stream",
          "name": "stdout",
          "text": [
            "/content/drive/MyDrive/Colab Notebooks\n"
          ]
        }
      ]
    },
    {
      "cell_type": "code",
      "source": [
        "!git init\n"
      ],
      "metadata": {
        "colab": {
          "base_uri": "https://localhost:8080/"
        },
        "id": "u0rzgMcjtwh1",
        "outputId": "a98bf008-855e-482b-e541-398c0b23b87b"
      },
      "execution_count": 5,
      "outputs": [
        {
          "output_type": "stream",
          "name": "stdout",
          "text": [
            "\u001b[33mhint: Using 'master' as the name for the initial branch. This default branch name\u001b[m\n",
            "\u001b[33mhint: is subject to change. To configure the initial branch name to use in all\u001b[m\n",
            "\u001b[33mhint: of your new repositories, which will suppress this warning, call:\u001b[m\n",
            "\u001b[33mhint: \u001b[m\n",
            "\u001b[33mhint: \tgit config --global init.defaultBranch <name>\u001b[m\n",
            "\u001b[33mhint: \u001b[m\n",
            "\u001b[33mhint: Names commonly chosen instead of 'master' are 'main', 'trunk' and\u001b[m\n",
            "\u001b[33mhint: 'development'. The just-created branch can be renamed via this command:\u001b[m\n",
            "\u001b[33mhint: \u001b[m\n",
            "\u001b[33mhint: \tgit branch -m <name>\u001b[m\n",
            "Initialized empty Git repository in /content/drive/MyDrive/Colab Notebooks/.git/\n"
          ]
        }
      ]
    },
    {
      "cell_type": "code",
      "source": [
        "!git remote add origin https://github.com/KimaniWanjiru03/Sanitary-Kit-Analysis-UNHCR"
      ],
      "metadata": {
        "id": "LRQSU2WVvZ9f"
      },
      "execution_count": 8,
      "outputs": []
    },
    {
      "cell_type": "code",
      "source": [
        "!git branch"
      ],
      "metadata": {
        "id": "F0zcjzFBwvJA"
      },
      "execution_count": 10,
      "outputs": []
    },
    {
      "cell_type": "code",
      "source": [
        "!git config --global user.email \"kimaniwanjiru03@gmail.com\"\n",
        "!git config --global user.name \"KimaniWanjiru03\""
      ],
      "metadata": {
        "id": "VS3PzMz1xLDA"
      },
      "execution_count": 13,
      "outputs": []
    },
    {
      "cell_type": "code",
      "source": [
        "!git add .\n",
        "!git commit -m \"Initial commit\"\n"
      ],
      "metadata": {
        "colab": {
          "base_uri": "https://localhost:8080/"
        },
        "id": "prKEkr2dxAhW",
        "outputId": "9a030598-83f8-4b5a-8fb0-886247bac26a"
      },
      "execution_count": 14,
      "outputs": [
        {
          "output_type": "stream",
          "name": "stdout",
          "text": [
            "[master (root-commit) c694855] Initial commit\n",
            " 2 files changed, 2 insertions(+)\n",
            " create mode 100644 Imma.ipynb\n",
            " create mode 100644 Sanitary Kit Analysis UNHCR.ipynb\n"
          ]
        }
      ]
    },
    {
      "cell_type": "code",
      "source": [
        "!git push -u origin master"
      ],
      "metadata": {
        "colab": {
          "base_uri": "https://localhost:8080/"
        },
        "id": "6MNQx--6wDr1",
        "outputId": "a80df164-8e7b-4f33-eb82-5890e0cc54f0"
      },
      "execution_count": 15,
      "outputs": [
        {
          "output_type": "stream",
          "name": "stdout",
          "text": [
            "fatal: could not read Username for 'https://github.com': No such device or address\n"
          ]
        }
      ]
    },
    {
      "cell_type": "markdown",
      "source": [
        "# General loading and filtering of data\n"
      ],
      "metadata": {
        "id": "GkLlq0N0sCOh"
      }
    },
    {
      "cell_type": "code",
      "execution_count": 1,
      "metadata": {
        "colab": {
          "base_uri": "https://localhost:8080/"
        },
        "id": "-cPtVql4-bbQ",
        "outputId": "bac1d476-27db-48e7-863e-53ed1d78484a"
      },
      "outputs": [
        {
          "output_type": "stream",
          "name": "stdout",
          "text": [
            "Python version\n",
            "3.10.12 (main, Jun 11 2023, 05:26:28) [GCC 11.4.0]\n",
            "Pandas version\n",
            "1.5.3\n"
          ]
        }
      ],
      "source": [
        "import sys\n",
        "print(\"Python version\")\n",
        "print(sys.version)\n",
        "\n",
        "import pandas as pd\n",
        "print(\"Pandas version\")\n",
        "print(pd.__version__)\n",
        "\n"
      ]
    },
    {
      "cell_type": "code",
      "source": [
        "# Getting the file paths\n",
        "\n",
        "file_path1 = \"Bhar El Naam Clean.xlsx\"\n",
        "file_path2 = \"Horseed New.xlsx\"\n",
        "file_path3 = \"Vision New.xlsx\""
      ],
      "metadata": {
        "id": "Bw7yuHVY--_a"
      },
      "execution_count": 4,
      "outputs": []
    },
    {
      "cell_type": "code",
      "source": [
        "# Getting the sheets\n",
        "\n",
        "# BHAR EL NAAM PRIMARY SCHOOL KAKUMA\n",
        "BEN = pd.ExcelFile(file_path1)\n",
        "sheet_names_BEN = BEN.sheet_names\n",
        "\n",
        "# HORSEED PRIMARY SCHOOL KAKUMA\n",
        "HS = pd.ExcelFile(file_path2)\n",
        "sheet_names_HS = HS.sheet_names\n",
        "\n",
        "# VISION SECONDARY SCHOOL KAKUMA\n",
        "VS = pd.ExcelFile(file_path3)\n",
        "sheet_names_VS = VS.sheet_names"
      ],
      "metadata": {
        "id": "9tL4kD3L_CYC"
      },
      "execution_count": 5,
      "outputs": []
    },
    {
      "cell_type": "code",
      "source": [
        "# Storing the sheets in dataframes\n",
        "\n",
        "# BHAR EL NAAM PRIMARY SCHOOL KAKUMA\n",
        "data_BEN = {}\n",
        "for sheet_name in sheet_names_BEN:\n",
        "    data_BEN[sheet_name] = pd.read_excel(file_path1, sheet_name=sheet_name)\n",
        "\n",
        "# HORSEED PRIMARY SCHOOL KAKUMA\n",
        "data_HS = {}\n",
        "for sheet_name in sheet_names_HS:\n",
        "    data_HS[sheet_name] = pd.read_excel(file_path2, sheet_name=sheet_name)\n",
        "\n",
        "# VISION SECONDARY SCHOOL KAKUMA\n",
        "data_VS = {}\n",
        "for sheet_name in sheet_names_VS:\n",
        "    data_VS[sheet_name] = pd.read_excel(file_path3, sheet_name=sheet_name)"
      ],
      "metadata": {
        "id": "lRZc5mRc_Fue"
      },
      "execution_count": 6,
      "outputs": []
    },
    {
      "cell_type": "code",
      "source": [
        "# BHAR EL NAAM PRIMARY SCHOOL KAKUMA\n",
        "\n",
        "# Dataframes on grade 6(2022) to grade 7(2023) students\n",
        "Grade_67_BEN = data_BEN['Bhar ElNaam Data, Grade 6-7']\n",
        "Grade_67_BEN = Grade_67_BEN.iloc[:, 1:]\n",
        "\n",
        "# Dataframes on grade 7(2022) to grade 8(2023) students\n",
        "Grade_78_BEN = data_BEN['Bhar Elnaam Data, Grade 7-8']\n",
        "Grade_78_BEN = Grade_78_BEN.iloc[:, 1:]\n",
        "\n",
        "\n",
        "# HORSEED PRIMARY SCHOOL KAKUMA\n",
        "\n",
        "# Dataframes on grade 6(2022) to grade 7(2023) students\n",
        "Grade_67_HS = data_HS['Horseed Data, Grade 6-7']\n",
        "Grade_67_HS = Grade_67_HS.iloc[:, 1:]\n",
        "\n",
        "# Dataframes on grade 7(2022) to grade 8(2023) students\n",
        "Grade_78_HS = data_HS['Horseed Data, Grade 7-8']\n",
        "Grade_78_HS = Grade_78_HS.iloc[:, 1:]\n",
        "\n",
        "\n",
        "# VISION SECONDARY SCHOOL KAKUMA\n",
        "\n",
        "# Dataframes on form 2(2022) to form 3(2023) students\n",
        "Form_23_VS = data_VS['Vision Sec Form 2-3']\n",
        "Form_23_VS = Form_23_VS.iloc[:, 1:]\n"
      ],
      "metadata": {
        "id": "JZEa2ZU__JjO"
      },
      "execution_count": 7,
      "outputs": []
    },
    {
      "cell_type": "markdown",
      "source": [
        "# The Wilcoxon signed-rank test in Python and Visualization of the paired data"
      ],
      "metadata": {
        "id": "KJjzMSoorbYM"
      }
    },
    {
      "cell_type": "code",
      "source": [
        "import numpy as np\n",
        "from scipy import stats\n",
        "import matplotlib.pyplot as plt"
      ],
      "metadata": {
        "id": "U2-SXVurrrOV"
      },
      "execution_count": 8,
      "outputs": []
    },
    {
      "cell_type": "markdown",
      "source": [
        "**1).BHAR EL NAAM PRIMARY SCHOOL (KAKUMA)**"
      ],
      "metadata": {
        "id": "cuP90GKTAfn0"
      }
    },
    {
      "cell_type": "code",
      "source": [
        "Grade_67_BEN.head()"
      ],
      "metadata": {
        "colab": {
          "base_uri": "https://localhost:8080/",
          "height": 258
        },
        "id": "c8ZMmWZ9lKT1",
        "outputId": "3381df4e-a3d1-481d-f631-a6251dc3a383"
      },
      "execution_count": 7,
      "outputs": [
        {
          "output_type": "execute_result",
          "data": {
            "text/plain": [
              "                     NAME  School Days (2022)  Days Absent (2022)  \\\n",
              "0           Akuol Bul Gon                  48                  10   \n",
              "1  Martha Ajoh Jok Atuany                  48                  11   \n",
              "2         Akol Aleer Bior                  48                  10   \n",
              "3          Akoi Alok Deng                  48                  10   \n",
              "4        Imran Abdi Ahmed                  48                  10   \n",
              "\n",
              "   Days Present (2022)  Absentisim rate (2022)  School Days (2023)  \\\n",
              "0                   38               20.833333                  55   \n",
              "1                   37               22.916667                  55   \n",
              "2                   38               20.833333                  55   \n",
              "3                   38               20.833333                  55   \n",
              "4                   38               20.833333                  55   \n",
              "\n",
              "   Days Absent (2023)  Days Present (2023)  Absentisim rate (2023)  \n",
              "0                14.0                 41.0               25.454545  \n",
              "1                10.0                 45.0               18.181818  \n",
              "2                22.0                 33.0               40.000000  \n",
              "3                20.0                 35.0               36.363636  \n",
              "4                27.5                 27.5               50.000000  "
            ],
            "text/html": [
              "\n",
              "  <div id=\"df-d042db86-2e35-43e8-9009-cb52647dcb62\" class=\"colab-df-container\">\n",
              "    <div>\n",
              "<style scoped>\n",
              "    .dataframe tbody tr th:only-of-type {\n",
              "        vertical-align: middle;\n",
              "    }\n",
              "\n",
              "    .dataframe tbody tr th {\n",
              "        vertical-align: top;\n",
              "    }\n",
              "\n",
              "    .dataframe thead th {\n",
              "        text-align: right;\n",
              "    }\n",
              "</style>\n",
              "<table border=\"1\" class=\"dataframe\">\n",
              "  <thead>\n",
              "    <tr style=\"text-align: right;\">\n",
              "      <th></th>\n",
              "      <th>NAME</th>\n",
              "      <th>School Days (2022)</th>\n",
              "      <th>Days Absent (2022)</th>\n",
              "      <th>Days Present (2022)</th>\n",
              "      <th>Absentisim rate (2022)</th>\n",
              "      <th>School Days (2023)</th>\n",
              "      <th>Days Absent (2023)</th>\n",
              "      <th>Days Present (2023)</th>\n",
              "      <th>Absentisim rate (2023)</th>\n",
              "    </tr>\n",
              "  </thead>\n",
              "  <tbody>\n",
              "    <tr>\n",
              "      <th>0</th>\n",
              "      <td>Akuol Bul Gon</td>\n",
              "      <td>48</td>\n",
              "      <td>10</td>\n",
              "      <td>38</td>\n",
              "      <td>20.833333</td>\n",
              "      <td>55</td>\n",
              "      <td>14.0</td>\n",
              "      <td>41.0</td>\n",
              "      <td>25.454545</td>\n",
              "    </tr>\n",
              "    <tr>\n",
              "      <th>1</th>\n",
              "      <td>Martha Ajoh Jok Atuany</td>\n",
              "      <td>48</td>\n",
              "      <td>11</td>\n",
              "      <td>37</td>\n",
              "      <td>22.916667</td>\n",
              "      <td>55</td>\n",
              "      <td>10.0</td>\n",
              "      <td>45.0</td>\n",
              "      <td>18.181818</td>\n",
              "    </tr>\n",
              "    <tr>\n",
              "      <th>2</th>\n",
              "      <td>Akol Aleer Bior</td>\n",
              "      <td>48</td>\n",
              "      <td>10</td>\n",
              "      <td>38</td>\n",
              "      <td>20.833333</td>\n",
              "      <td>55</td>\n",
              "      <td>22.0</td>\n",
              "      <td>33.0</td>\n",
              "      <td>40.000000</td>\n",
              "    </tr>\n",
              "    <tr>\n",
              "      <th>3</th>\n",
              "      <td>Akoi Alok Deng</td>\n",
              "      <td>48</td>\n",
              "      <td>10</td>\n",
              "      <td>38</td>\n",
              "      <td>20.833333</td>\n",
              "      <td>55</td>\n",
              "      <td>20.0</td>\n",
              "      <td>35.0</td>\n",
              "      <td>36.363636</td>\n",
              "    </tr>\n",
              "    <tr>\n",
              "      <th>4</th>\n",
              "      <td>Imran Abdi Ahmed</td>\n",
              "      <td>48</td>\n",
              "      <td>10</td>\n",
              "      <td>38</td>\n",
              "      <td>20.833333</td>\n",
              "      <td>55</td>\n",
              "      <td>27.5</td>\n",
              "      <td>27.5</td>\n",
              "      <td>50.000000</td>\n",
              "    </tr>\n",
              "  </tbody>\n",
              "</table>\n",
              "</div>\n",
              "    <div class=\"colab-df-buttons\">\n",
              "\n",
              "  <div class=\"colab-df-container\">\n",
              "    <button class=\"colab-df-convert\" onclick=\"convertToInteractive('df-d042db86-2e35-43e8-9009-cb52647dcb62')\"\n",
              "            title=\"Convert this dataframe to an interactive table.\"\n",
              "            style=\"display:none;\">\n",
              "\n",
              "  <svg xmlns=\"http://www.w3.org/2000/svg\" height=\"24px\" viewBox=\"0 -960 960 960\">\n",
              "    <path d=\"M120-120v-720h720v720H120Zm60-500h600v-160H180v160Zm220 220h160v-160H400v160Zm0 220h160v-160H400v160ZM180-400h160v-160H180v160Zm440 0h160v-160H620v160ZM180-180h160v-160H180v160Zm440 0h160v-160H620v160Z\"/>\n",
              "  </svg>\n",
              "    </button>\n",
              "\n",
              "  <style>\n",
              "    .colab-df-container {\n",
              "      display:flex;\n",
              "      gap: 12px;\n",
              "    }\n",
              "\n",
              "    .colab-df-convert {\n",
              "      background-color: #E8F0FE;\n",
              "      border: none;\n",
              "      border-radius: 50%;\n",
              "      cursor: pointer;\n",
              "      display: none;\n",
              "      fill: #1967D2;\n",
              "      height: 32px;\n",
              "      padding: 0 0 0 0;\n",
              "      width: 32px;\n",
              "    }\n",
              "\n",
              "    .colab-df-convert:hover {\n",
              "      background-color: #E2EBFA;\n",
              "      box-shadow: 0px 1px 2px rgba(60, 64, 67, 0.3), 0px 1px 3px 1px rgba(60, 64, 67, 0.15);\n",
              "      fill: #174EA6;\n",
              "    }\n",
              "\n",
              "    .colab-df-buttons div {\n",
              "      margin-bottom: 4px;\n",
              "    }\n",
              "\n",
              "    [theme=dark] .colab-df-convert {\n",
              "      background-color: #3B4455;\n",
              "      fill: #D2E3FC;\n",
              "    }\n",
              "\n",
              "    [theme=dark] .colab-df-convert:hover {\n",
              "      background-color: #434B5C;\n",
              "      box-shadow: 0px 1px 3px 1px rgba(0, 0, 0, 0.15);\n",
              "      filter: drop-shadow(0px 1px 2px rgba(0, 0, 0, 0.3));\n",
              "      fill: #FFFFFF;\n",
              "    }\n",
              "  </style>\n",
              "\n",
              "    <script>\n",
              "      const buttonEl =\n",
              "        document.querySelector('#df-d042db86-2e35-43e8-9009-cb52647dcb62 button.colab-df-convert');\n",
              "      buttonEl.style.display =\n",
              "        google.colab.kernel.accessAllowed ? 'block' : 'none';\n",
              "\n",
              "      async function convertToInteractive(key) {\n",
              "        const element = document.querySelector('#df-d042db86-2e35-43e8-9009-cb52647dcb62');\n",
              "        const dataTable =\n",
              "          await google.colab.kernel.invokeFunction('convertToInteractive',\n",
              "                                                    [key], {});\n",
              "        if (!dataTable) return;\n",
              "\n",
              "        const docLinkHtml = 'Like what you see? Visit the ' +\n",
              "          '<a target=\"_blank\" href=https://colab.research.google.com/notebooks/data_table.ipynb>data table notebook</a>'\n",
              "          + ' to learn more about interactive tables.';\n",
              "        element.innerHTML = '';\n",
              "        dataTable['output_type'] = 'display_data';\n",
              "        await google.colab.output.renderOutput(dataTable, element);\n",
              "        const docLink = document.createElement('div');\n",
              "        docLink.innerHTML = docLinkHtml;\n",
              "        element.appendChild(docLink);\n",
              "      }\n",
              "    </script>\n",
              "  </div>\n",
              "\n",
              "\n",
              "<div id=\"df-d79370c7-cf8b-4113-a28c-0eb59b56bfc9\">\n",
              "  <button class=\"colab-df-quickchart\" onclick=\"quickchart('df-d79370c7-cf8b-4113-a28c-0eb59b56bfc9')\"\n",
              "            title=\"Suggest charts.\"\n",
              "            style=\"display:none;\">\n",
              "\n",
              "<svg xmlns=\"http://www.w3.org/2000/svg\" height=\"24px\"viewBox=\"0 0 24 24\"\n",
              "     width=\"24px\">\n",
              "    <g>\n",
              "        <path d=\"M19 3H5c-1.1 0-2 .9-2 2v14c0 1.1.9 2 2 2h14c1.1 0 2-.9 2-2V5c0-1.1-.9-2-2-2zM9 17H7v-7h2v7zm4 0h-2V7h2v10zm4 0h-2v-4h2v4z\"/>\n",
              "    </g>\n",
              "</svg>\n",
              "  </button>\n",
              "\n",
              "<style>\n",
              "  .colab-df-quickchart {\n",
              "      --bg-color: #E8F0FE;\n",
              "      --fill-color: #1967D2;\n",
              "      --hover-bg-color: #E2EBFA;\n",
              "      --hover-fill-color: #174EA6;\n",
              "      --disabled-fill-color: #AAA;\n",
              "      --disabled-bg-color: #DDD;\n",
              "  }\n",
              "\n",
              "  [theme=dark] .colab-df-quickchart {\n",
              "      --bg-color: #3B4455;\n",
              "      --fill-color: #D2E3FC;\n",
              "      --hover-bg-color: #434B5C;\n",
              "      --hover-fill-color: #FFFFFF;\n",
              "      --disabled-bg-color: #3B4455;\n",
              "      --disabled-fill-color: #666;\n",
              "  }\n",
              "\n",
              "  .colab-df-quickchart {\n",
              "    background-color: var(--bg-color);\n",
              "    border: none;\n",
              "    border-radius: 50%;\n",
              "    cursor: pointer;\n",
              "    display: none;\n",
              "    fill: var(--fill-color);\n",
              "    height: 32px;\n",
              "    padding: 0;\n",
              "    width: 32px;\n",
              "  }\n",
              "\n",
              "  .colab-df-quickchart:hover {\n",
              "    background-color: var(--hover-bg-color);\n",
              "    box-shadow: 0 1px 2px rgba(60, 64, 67, 0.3), 0 1px 3px 1px rgba(60, 64, 67, 0.15);\n",
              "    fill: var(--button-hover-fill-color);\n",
              "  }\n",
              "\n",
              "  .colab-df-quickchart-complete:disabled,\n",
              "  .colab-df-quickchart-complete:disabled:hover {\n",
              "    background-color: var(--disabled-bg-color);\n",
              "    fill: var(--disabled-fill-color);\n",
              "    box-shadow: none;\n",
              "  }\n",
              "\n",
              "  .colab-df-spinner {\n",
              "    border: 2px solid var(--fill-color);\n",
              "    border-color: transparent;\n",
              "    border-bottom-color: var(--fill-color);\n",
              "    animation:\n",
              "      spin 1s steps(1) infinite;\n",
              "  }\n",
              "\n",
              "  @keyframes spin {\n",
              "    0% {\n",
              "      border-color: transparent;\n",
              "      border-bottom-color: var(--fill-color);\n",
              "      border-left-color: var(--fill-color);\n",
              "    }\n",
              "    20% {\n",
              "      border-color: transparent;\n",
              "      border-left-color: var(--fill-color);\n",
              "      border-top-color: var(--fill-color);\n",
              "    }\n",
              "    30% {\n",
              "      border-color: transparent;\n",
              "      border-left-color: var(--fill-color);\n",
              "      border-top-color: var(--fill-color);\n",
              "      border-right-color: var(--fill-color);\n",
              "    }\n",
              "    40% {\n",
              "      border-color: transparent;\n",
              "      border-right-color: var(--fill-color);\n",
              "      border-top-color: var(--fill-color);\n",
              "    }\n",
              "    60% {\n",
              "      border-color: transparent;\n",
              "      border-right-color: var(--fill-color);\n",
              "    }\n",
              "    80% {\n",
              "      border-color: transparent;\n",
              "      border-right-color: var(--fill-color);\n",
              "      border-bottom-color: var(--fill-color);\n",
              "    }\n",
              "    90% {\n",
              "      border-color: transparent;\n",
              "      border-bottom-color: var(--fill-color);\n",
              "    }\n",
              "  }\n",
              "</style>\n",
              "\n",
              "  <script>\n",
              "    async function quickchart(key) {\n",
              "      const quickchartButtonEl =\n",
              "        document.querySelector('#' + key + ' button');\n",
              "      quickchartButtonEl.disabled = true;  // To prevent multiple clicks.\n",
              "      quickchartButtonEl.classList.add('colab-df-spinner');\n",
              "      try {\n",
              "        const charts = await google.colab.kernel.invokeFunction(\n",
              "            'suggestCharts', [key], {});\n",
              "      } catch (error) {\n",
              "        console.error('Error during call to suggestCharts:', error);\n",
              "      }\n",
              "      quickchartButtonEl.classList.remove('colab-df-spinner');\n",
              "      quickchartButtonEl.classList.add('colab-df-quickchart-complete');\n",
              "    }\n",
              "    (() => {\n",
              "      let quickchartButtonEl =\n",
              "        document.querySelector('#df-d79370c7-cf8b-4113-a28c-0eb59b56bfc9 button');\n",
              "      quickchartButtonEl.style.display =\n",
              "        google.colab.kernel.accessAllowed ? 'block' : 'none';\n",
              "    })();\n",
              "  </script>\n",
              "</div>\n",
              "    </div>\n",
              "  </div>\n"
            ]
          },
          "metadata": {},
          "execution_count": 7
        }
      ]
    },
    {
      "cell_type": "code",
      "source": [
        "# Extracting relevant columns\n",
        "intervention_BEN_6_2022 = Grade_67_BEN['Days Absent (2022)']\n",
        "no_intervention_BEN_7_2023 = Grade_67_BEN['Days Absent (2023)']\n",
        "\n",
        "\n",
        "intervention_BEN_7_2022 = Grade_78_BEN['Days Absent (2022)']\n",
        "no_intervention_BEN_8_2023 = Grade_78_BEN['Days Absent (2023)']\n"
      ],
      "metadata": {
        "id": "Xnlm8ijWv13x"
      },
      "execution_count": 8,
      "outputs": []
    },
    {
      "cell_type": "markdown",
      "source": [
        "**Checking the normality assumption**"
      ],
      "metadata": {
        "id": "2VlJJ8wcvksy"
      }
    },
    {
      "cell_type": "code",
      "source": [
        "from scipy.stats import shapiro"
      ],
      "metadata": {
        "id": "HSEcEWGxw3v1"
      },
      "execution_count": 12,
      "outputs": []
    },
    {
      "cell_type": "code",
      "source": [
        "# Grade 7 2023\n",
        "differences_BEN_67 = no_intervention_BEN_7_2023 - intervention_BEN_6_2022\n",
        "\n",
        "statistic_BEN_67, p_value_nBEN_67 = shapiro(differences_BEN_67)\n",
        "\n",
        "# Check the p-value\n",
        "if p_value_nBEN_67 > 0.05:\n",
        "    print(\"The differences are approximately normally distributed (p > 0.05)\")\n",
        "else:\n",
        "    print(\"The differences are not normally distributed (p <= 0.05)\")"
      ],
      "metadata": {
        "colab": {
          "base_uri": "https://localhost:8080/"
        },
        "id": "5qREnNyxvkH4",
        "outputId": "3683d77b-67ce-498c-b38c-898e43231039"
      },
      "execution_count": 10,
      "outputs": [
        {
          "output_type": "stream",
          "name": "stdout",
          "text": [
            "The differences are approximately normally distributed (p > 0.05)\n"
          ]
        }
      ]
    },
    {
      "cell_type": "code",
      "source": [
        "# A QQ Plot to visualize this\n",
        "import statsmodels.api as sm\n",
        "\n",
        "differences_BEN_67_new = np.array(differences_BEN_67)\n",
        "\n",
        "# Generate a theoretical normal distribution for comparison\n",
        "mean, std_dev = np.mean(differences_BEN_67_new), np.std(differences_BEN_67_new)\n",
        "theoretical_normal = np.random.normal(mean, std_dev, len(differences_BEN_67_new))\n",
        "\n",
        "# Create the Q-Q plot\n",
        "qqplot = sm.qqplot(differences_BEN_67_new, line='s')\n",
        "\n",
        "# Add a title\n",
        "plt.title(\"Q-Q Plot for Bhar El Naam Grade 7 2023\")\n",
        "\n",
        "# Show the plot\n",
        "plt.show()\n"
      ],
      "metadata": {
        "colab": {
          "base_uri": "https://localhost:8080/",
          "height": 472
        },
        "id": "TmlgUmNVxpZv",
        "outputId": "d4f01207-1f24-4b5e-e5c4-c2330ca40ae1"
      },
      "execution_count": 11,
      "outputs": [
        {
          "output_type": "display_data",
          "data": {
            "text/plain": [
              "<Figure size 640x480 with 1 Axes>"
            ],
            "image/png": "[encoded data removed]"
          },
          "metadata": {}
        }
      ]
    },
    {
      "cell_type": "code",
      "source": [
        "# Grade 8 2023\n",
        "differences_BEN_78 = no_intervention_BEN_8_2023 - intervention_BEN_7_2022\n",
        "\n",
        "statistic_BEN_78, p_value_nBEN_78 = shapiro(differences_BEN_78)\n",
        "\n",
        "#Chech p-value\n",
        "\n",
        "if p_value_nBEN_78 > 0.05:\n",
        "    print(\"The differences are approximately normally distributed (p > 0.05)\")\n",
        "else:\n",
        "    print(\"The differences are not normally distributed (p <= 0.05)\")"
      ],
      "metadata": {
        "colab": {
          "base_uri": "https://localhost:8080/"
        },
        "id": "CAD6nY2pw09F",
        "outputId": "dc6c3b61-4208-4430-91a6-21c1f5c44679"
      },
      "execution_count": 12,
      "outputs": [
        {
          "output_type": "stream",
          "name": "stdout",
          "text": [
            "The differences are not normally distributed (p <= 0.05)\n"
          ]
        }
      ]
    },
    {
      "cell_type": "code",
      "source": [
        "# A QQ Plot to visualize this\n",
        "differences_BEN_78_new = np.array(differences_BEN_78)\n",
        "\n",
        "# Generate a theoretical normal distribution for comparison\n",
        "mean, std_dev = np.mean(differences_BEN_78_new), np.std(differences_BEN_78_new)\n",
        "theoretical_normal = np.random.normal(mean, std_dev, len(differences_BEN_78_new))\n",
        "\n",
        "# Create the Q-Q plot\n",
        "qqplot = sm.qqplot(differences_BEN_78_new, line='s')\n",
        "\n",
        "# Add a title\n",
        "plt.title(\"Q-Q Plot for Bhar El Naam Grade 8 2023\")\n",
        "\n",
        "# Show the plot\n",
        "plt.show()\n"
      ],
      "metadata": {
        "colab": {
          "base_uri": "https://localhost:8080/",
          "height": 472
        },
        "id": "-FkvUDfezNSH",
        "outputId": "e3efa732-6946-4f48-99f7-60acd3eddc61"
      },
      "execution_count": 13,
      "outputs": [
        {
          "output_type": "display_data",
          "data": {
            "text/plain": [
              "<Figure size 640x480 with 1 Axes>"
            ],
            "image/png": "[encoded data removed]"
          },
          "metadata": {}
        }
      ]
    },
    {
      "cell_type": "markdown",
      "source": [
        "**Since the normality test is not obeyed in one of the cases, we will use a non-parametric t-test known as the Wilcoxon signed-rank test**"
      ],
      "metadata": {
        "id": "fZo64Q_zyD1S"
      }
    },
    {
      "cell_type": "code",
      "source": [
        "from scipy.stats import wilcoxon"
      ],
      "metadata": {
        "id": "EGNN7HbCyV_7"
      },
      "execution_count": 14,
      "outputs": []
    },
    {
      "cell_type": "code",
      "source": [
        "# Wilcoxon signed-rank test for Grade 7 2023\n",
        "statistic_BEN_67, p_value_BEN_67 = wilcoxon(intervention_BEN_6_2022, no_intervention_BEN_7_2023)\n",
        "\n",
        "# Print the t-statistic and p-value\n",
        "print(f\"T-statistic: {statistic_BEN_67}\")\n",
        "print(f\"P-value: {p_value_BEN_67}\")\n",
        "\n",
        "# Define the significance level (alpha)\n",
        "alpha = 0.05\n",
        "\n",
        "# Compare the p-value with alpha to make a decision\n",
        "if p_value_BEN_67 < alpha:\n",
        "    print(\"Reject the null hypothesis (There is a significant difference)\")\n",
        "else:\n",
        "    print(\"Fail to reject the null hypothesis (No significant difference)\")\n",
        "\n",
        "\n",
        "# The magnitude of the t-statistic is important. Generally,\n",
        "# a larger absolute value of the t-statistic suggests a stronger evidence against the null hypothesis.\n",
        "# In this case, a t-statistic of -11.72 is quite large, indicating a significant difference."
      ],
      "metadata": {
        "colab": {
          "base_uri": "https://localhost:8080/"
        },
        "id": "DSFNxWRQy7Xd",
        "outputId": "2a5dcb8a-e06b-4899-84e9-ab8ed5996eb1"
      },
      "execution_count": 15,
      "outputs": [
        {
          "output_type": "stream",
          "name": "stdout",
          "text": [
            "T-statistic: 1.0\n",
            "P-value: 1.1641532182693481e-10\n",
            "Reject the null hypothesis (There is a significant difference)\n"
          ]
        }
      ]
    },
    {
      "cell_type": "code",
      "source": [
        "# Wilcoxon signed-rank test for Grade 8 2023\n",
        "statistic_BEN_78, p_value_BEN_78 = wilcoxon(intervention_BEN_7_2022, no_intervention_BEN_8_2023)\n",
        "\n",
        "# Print the test statistic and p-value\n",
        "print(f\"Test Statistic: {statistic_BEN_78}\")\n",
        "print(f\"P-value: {p_value_BEN_78}\")\n",
        "\n",
        "# Define the significance level (alpha)\n",
        "alpha = 0.05\n",
        "\n",
        "# Compare the p-value with alpha to make a decision\n",
        "if p_value_BEN_78 < alpha:\n",
        "    print(\"Reject the null hypothesis (There is a significant difference)\")\n",
        "else:\n",
        "    print(\"Fail to reject the null hypothesis (No significant difference)\")\n"
      ],
      "metadata": {
        "colab": {
          "base_uri": "https://localhost:8080/"
        },
        "id": "eeQTwOmdxSa4",
        "outputId": "1defad05-458a-4682-a64e-13f668778148"
      },
      "execution_count": 16,
      "outputs": [
        {
          "output_type": "stream",
          "name": "stdout",
          "text": [
            "Test Statistic: 82.0\n",
            "P-value: 0.0003463876831053231\n",
            "Reject the null hypothesis (There is a significant difference)\n"
          ]
        },
        {
          "output_type": "stream",
          "name": "stderr",
          "text": [
            "/usr/local/lib/python3.10/dist-packages/scipy/stats/_morestats.py:4088: UserWarning: Exact p-value calculation does not work if there are zeros. Switching to normal approximation.\n",
            "  warnings.warn(\"Exact p-value calculation does not work if there are \"\n"
          ]
        }
      ]
    },
    {
      "cell_type": "markdown",
      "source": [
        "**A Graph to show the change in the rate of number of days absent for both grades**\n",
        "\n",
        "\n"
      ],
      "metadata": {
        "id": "seb1qwSyzX8A"
      }
    },
    {
      "cell_type": "code",
      "source": [
        "# # Create a figure with subplots\n",
        "# fig, axs = plt.subplots(1, 2, figsize=(12, 5))\n",
        "\n",
        "# # Grade 7 2023\n",
        "# axs[0].plot(sorted(differences_BEN_67), color='red')\n",
        "# axs[0].set_xlabel('Number of students')\n",
        "# axs[0].set_ylabel('Change in days absent')\n",
        "# axs[0].set_title('Change in days absent for Grade 7 2023 compared to Grade 6 2022')\n",
        "\n",
        "# # Grade 8 2023\n",
        "# axs[1].plot(sorted(differences_BEN_78), color='blue')\n",
        "# axs[1].set_xlabel('Number of students')\n",
        "# axs[1].set_ylabel('Change in days absent')\n",
        "# axs[1].set_title('Change in days absent for Grade 8 2023 compared to Grade 7 2022')\n",
        "\n",
        "# # Adjust layout to prevent overlapping\n",
        "# plt.tight_layout()\n",
        "\n",
        "# # Show the plot\n",
        "# plt.show()\n"
      ],
      "metadata": {
        "id": "8pNXTyZ1qN1a"
      },
      "execution_count": 17,
      "outputs": []
    },
    {
      "cell_type": "markdown",
      "source": [
        "**2).HORSEED PRIMARY SCHOOL (KAKUMA)**"
      ],
      "metadata": {
        "id": "fx7kXjnAtOXO"
      }
    },
    {
      "cell_type": "code",
      "source": [
        "Grade_67_HS.head()"
      ],
      "metadata": {
        "colab": {
          "base_uri": "https://localhost:8080/",
          "height": 241
        },
        "id": "4fPpT46NtNDt",
        "outputId": "000acea3-ad5d-44df-e490-a6c5497e721c"
      },
      "execution_count": 18,
      "outputs": [
        {
          "output_type": "execute_result",
          "data": {
            "text/plain": [
              "                   NAME  School Days (2022)  Days Absent (2022)  \\\n",
              "0  AISHA HAMADI HUSSEIN                  65                  17   \n",
              "1          AISHA HASSAN                  65                  45   \n",
              "2         ANITA KASONGO                  65                   2   \n",
              "3         APOLINA DAUDI                  65                   1   \n",
              "4           ASMA ABAKAR                  65                  28   \n",
              "\n",
              "   Days Present (2022)  Absentisim rate (2022)  School Days (2023)  \\\n",
              "0                   48               26.153846                  65   \n",
              "1                   20               69.230769                  65   \n",
              "2                   63                3.076923                  65   \n",
              "3                   64                1.538462                  65   \n",
              "4                   37               43.076923                  65   \n",
              "\n",
              "   Days Absent (2023)  Days Present (2023)  Absentisim rate (2023)  \n",
              "0                  26                   39               40.000000  \n",
              "1                  18                   47               27.692308  \n",
              "2                  27                   38               41.538462  \n",
              "3                  14                   51               21.538462  \n",
              "4                  15                   50               23.076923  "
            ],
            "text/html": [
              "\n",
              "  <div id=\"df-fc403c32-84f2-4758-9de5-a2dd669a741f\" class=\"colab-df-container\">\n",
              "    <div>\n",
              "<style scoped>\n",
              "    .dataframe tbody tr th:only-of-type {\n",
              "        vertical-align: middle;\n",
              "    }\n",
              "\n",
              "    .dataframe tbody tr th {\n",
              "        vertical-align: top;\n",
              "    }\n",
              "\n",
              "    .dataframe thead th {\n",
              "        text-align: right;\n",
              "    }\n",
              "</style>\n",
              "<table border=\"1\" class=\"dataframe\">\n",
              "  <thead>\n",
              "    <tr style=\"text-align: right;\">\n",
              "      <th></th>\n",
              "      <th>NAME</th>\n",
              "      <th>School Days (2022)</th>\n",
              "      <th>Days Absent (2022)</th>\n",
              "      <th>Days Present (2022)</th>\n",
              "      <th>Absentisim rate (2022)</th>\n",
              "      <th>School Days (2023)</th>\n",
              "      <th>Days Absent (2023)</th>\n",
              "      <th>Days Present (2023)</th>\n",
              "      <th>Absentisim rate (2023)</th>\n",
              "    </tr>\n",
              "  </thead>\n",
              "  <tbody>\n",
              "    <tr>\n",
              "      <th>0</th>\n",
              "      <td>AISHA HAMADI HUSSEIN</td>\n",
              "      <td>65</td>\n",
              "      <td>17</td>\n",
              "      <td>48</td>\n",
              "      <td>26.153846</td>\n",
              "      <td>65</td>\n",
              "      <td>26</td>\n",
              "      <td>39</td>\n",
              "      <td>40.000000</td>\n",
              "    </tr>\n",
              "    <tr>\n",
              "      <th>1</th>\n",
              "      <td>AISHA HASSAN</td>\n",
              "      <td>65</td>\n",
              "      <td>45</td>\n",
              "      <td>20</td>\n",
              "      <td>69.230769</td>\n",
              "      <td>65</td>\n",
              "      <td>18</td>\n",
              "      <td>47</td>\n",
              "      <td>27.692308</td>\n",
              "    </tr>\n",
              "    <tr>\n",
              "      <th>2</th>\n",
              "      <td>ANITA KASONGO</td>\n",
              "      <td>65</td>\n",
              "      <td>2</td>\n",
              "      <td>63</td>\n",
              "      <td>3.076923</td>\n",
              "      <td>65</td>\n",
              "      <td>27</td>\n",
              "      <td>38</td>\n",
              "      <td>41.538462</td>\n",
              "    </tr>\n",
              "    <tr>\n",
              "      <th>3</th>\n",
              "      <td>APOLINA DAUDI</td>\n",
              "      <td>65</td>\n",
              "      <td>1</td>\n",
              "      <td>64</td>\n",
              "      <td>1.538462</td>\n",
              "      <td>65</td>\n",
              "      <td>14</td>\n",
              "      <td>51</td>\n",
              "      <td>21.538462</td>\n",
              "    </tr>\n",
              "    <tr>\n",
              "      <th>4</th>\n",
              "      <td>ASMA ABAKAR</td>\n",
              "      <td>65</td>\n",
              "      <td>28</td>\n",
              "      <td>37</td>\n",
              "      <td>43.076923</td>\n",
              "      <td>65</td>\n",
              "      <td>15</td>\n",
              "      <td>50</td>\n",
              "      <td>23.076923</td>\n",
              "    </tr>\n",
              "  </tbody>\n",
              "</table>\n",
              "</div>\n",
              "    <div class=\"colab-df-buttons\">\n",
              "\n",
              "  <div class=\"colab-df-container\">\n",
              "    <button class=\"colab-df-convert\" onclick=\"convertToInteractive('df-fc403c32-84f2-4758-9de5-a2dd669a741f')\"\n",
              "            title=\"Convert this dataframe to an interactive table.\"\n",
              "            style=\"display:none;\">\n",
              "\n",
              "  <svg xmlns=\"http://www.w3.org/2000/svg\" height=\"24px\" viewBox=\"0 -960 960 960\">\n",
              "    <path d=\"M120-120v-720h720v720H120Zm60-500h600v-160H180v160Zm220 220h160v-160H400v160Zm0 220h160v-160H400v160ZM180-400h160v-160H180v160Zm440 0h160v-160H620v160ZM180-180h160v-160H180v160Zm440 0h160v-160H620v160Z\"/>\n",
              "  </svg>\n",
              "    </button>\n",
              "\n",
              "  <style>\n",
              "    .colab-df-container {\n",
              "      display:flex;\n",
              "      gap: 12px;\n",
              "    }\n",
              "\n",
              "    .colab-df-convert {\n",
              "      background-color: #E8F0FE;\n",
              "      border: none;\n",
              "      border-radius: 50%;\n",
              "      cursor: pointer;\n",
              "      display: none;\n",
              "      fill: #1967D2;\n",
              "      height: 32px;\n",
              "      padding: 0 0 0 0;\n",
              "      width: 32px;\n",
              "    }\n",
              "\n",
              "    .colab-df-convert:hover {\n",
              "      background-color: #E2EBFA;\n",
              "      box-shadow: 0px 1px 2px rgba(60, 64, 67, 0.3), 0px 1px 3px 1px rgba(60, 64, 67, 0.15);\n",
              "      fill: #174EA6;\n",
              "    }\n",
              "\n",
              "    .colab-df-buttons div {\n",
              "      margin-bottom: 4px;\n",
              "    }\n",
              "\n",
              "    [theme=dark] .colab-df-convert {\n",
              "      background-color: #3B4455;\n",
              "      fill: #D2E3FC;\n",
              "    }\n",
              "\n",
              "    [theme=dark] .colab-df-convert:hover {\n",
              "      background-color: #434B5C;\n",
              "      box-shadow: 0px 1px 3px 1px rgba(0, 0, 0, 0.15);\n",
              "      filter: drop-shadow(0px 1px 2px rgba(0, 0, 0, 0.3));\n",
              "      fill: #FFFFFF;\n",
              "    }\n",
              "  </style>\n",
              "\n",
              "    <script>\n",
              "      const buttonEl =\n",
              "        document.querySelector('#df-fc403c32-84f2-4758-9de5-a2dd669a741f button.colab-df-convert');\n",
              "      buttonEl.style.display =\n",
              "        google.colab.kernel.accessAllowed ? 'block' : 'none';\n",
              "\n",
              "      async function convertToInteractive(key) {\n",
              "        const element = document.querySelector('#df-fc403c32-84f2-4758-9de5-a2dd669a741f');\n",
              "        const dataTable =\n",
              "          await google.colab.kernel.invokeFunction('convertToInteractive',\n",
              "                                                    [key], {});\n",
              "        if (!dataTable) return;\n",
              "\n",
              "        const docLinkHtml = 'Like what you see? Visit the ' +\n",
              "          '<a target=\"_blank\" href=https://colab.research.google.com/notebooks/data_table.ipynb>data table notebook</a>'\n",
              "          + ' to learn more about interactive tables.';\n",
              "        element.innerHTML = '';\n",
              "        dataTable['output_type'] = 'display_data';\n",
              "        await google.colab.output.renderOutput(dataTable, element);\n",
              "        const docLink = document.createElement('div');\n",
              "        docLink.innerHTML = docLinkHtml;\n",
              "        element.appendChild(docLink);\n",
              "      }\n",
              "    </script>\n",
              "  </div>\n",
              "\n",
              "\n",
              "<div id=\"df-dc107b9d-097c-4338-8630-9f7f3984c106\">\n",
              "  <button class=\"colab-df-quickchart\" onclick=\"quickchart('df-dc107b9d-097c-4338-8630-9f7f3984c106')\"\n",
              "            title=\"Suggest charts.\"\n",
              "            style=\"display:none;\">\n",
              "\n",
              "<svg xmlns=\"http://www.w3.org/2000/svg\" height=\"24px\"viewBox=\"0 0 24 24\"\n",
              "     width=\"24px\">\n",
              "    <g>\n",
              "        <path d=\"M19 3H5c-1.1 0-2 .9-2 2v14c0 1.1.9 2 2 2h14c1.1 0 2-.9 2-2V5c0-1.1-.9-2-2-2zM9 17H7v-7h2v7zm4 0h-2V7h2v10zm4 0h-2v-4h2v4z\"/>\n",
              "    </g>\n",
              "</svg>\n",
              "  </button>\n",
              "\n",
              "<style>\n",
              "  .colab-df-quickchart {\n",
              "      --bg-color: #E8F0FE;\n",
              "      --fill-color: #1967D2;\n",
              "      --hover-bg-color: #E2EBFA;\n",
              "      --hover-fill-color: #174EA6;\n",
              "      --disabled-fill-color: #AAA;\n",
              "      --disabled-bg-color: #DDD;\n",
              "  }\n",
              "\n",
              "  [theme=dark] .colab-df-quickchart {\n",
              "      --bg-color: #3B4455;\n",
              "      --fill-color: #D2E3FC;\n",
              "      --hover-bg-color: #434B5C;\n",
              "      --hover-fill-color: #FFFFFF;\n",
              "      --disabled-bg-color: #3B4455;\n",
              "      --disabled-fill-color: #666;\n",
              "  }\n",
              "\n",
              "  .colab-df-quickchart {\n",
              "    background-color: var(--bg-color);\n",
              "    border: none;\n",
              "    border-radius: 50%;\n",
              "    cursor: pointer;\n",
              "    display: none;\n",
              "    fill: var(--fill-color);\n",
              "    height: 32px;\n",
              "    padding: 0;\n",
              "    width: 32px;\n",
              "  }\n",
              "\n",
              "  .colab-df-quickchart:hover {\n",
              "    background-color: var(--hover-bg-color);\n",
              "    box-shadow: 0 1px 2px rgba(60, 64, 67, 0.3), 0 1px 3px 1px rgba(60, 64, 67, 0.15);\n",
              "    fill: var(--button-hover-fill-color);\n",
              "  }\n",
              "\n",
              "  .colab-df-quickchart-complete:disabled,\n",
              "  .colab-df-quickchart-complete:disabled:hover {\n",
              "    background-color: var(--disabled-bg-color);\n",
              "    fill: var(--disabled-fill-color);\n",
              "    box-shadow: none;\n",
              "  }\n",
              "\n",
              "  .colab-df-spinner {\n",
              "    border: 2px solid var(--fill-color);\n",
              "    border-color: transparent;\n",
              "    border-bottom-color: var(--fill-color);\n",
              "    animation:\n",
              "      spin 1s steps(1) infinite;\n",
              "  }\n",
              "\n",
              "  @keyframes spin {\n",
              "    0% {\n",
              "      border-color: transparent;\n",
              "      border-bottom-color: var(--fill-color);\n",
              "      border-left-color: var(--fill-color);\n",
              "    }\n",
              "    20% {\n",
              "      border-color: transparent;\n",
              "      border-left-color: var(--fill-color);\n",
              "      border-top-color: var(--fill-color);\n",
              "    }\n",
              "    30% {\n",
              "      border-color: transparent;\n",
              "      border-left-color: var(--fill-color);\n",
              "      border-top-color: var(--fill-color);\n",
              "      border-right-color: var(--fill-color);\n",
              "    }\n",
              "    40% {\n",
              "      border-color: transparent;\n",
              "      border-right-color: var(--fill-color);\n",
              "      border-top-color: var(--fill-color);\n",
              "    }\n",
              "    60% {\n",
              "      border-color: transparent;\n",
              "      border-right-color: var(--fill-color);\n",
              "    }\n",
              "    80% {\n",
              "      border-color: transparent;\n",
              "      border-right-color: var(--fill-color);\n",
              "      border-bottom-color: var(--fill-color);\n",
              "    }\n",
              "    90% {\n",
              "      border-color: transparent;\n",
              "      border-bottom-color: var(--fill-color);\n",
              "    }\n",
              "  }\n",
              "</style>\n",
              "\n",
              "  <script>\n",
              "    async function quickchart(key) {\n",
              "      const quickchartButtonEl =\n",
              "        document.querySelector('#' + key + ' button');\n",
              "      quickchartButtonEl.disabled = true;  // To prevent multiple clicks.\n",
              "      quickchartButtonEl.classList.add('colab-df-spinner');\n",
              "      try {\n",
              "        const charts = await google.colab.kernel.invokeFunction(\n",
              "            'suggestCharts', [key], {});\n",
              "      } catch (error) {\n",
              "        console.error('Error during call to suggestCharts:', error);\n",
              "      }\n",
              "      quickchartButtonEl.classList.remove('colab-df-spinner');\n",
              "      quickchartButtonEl.classList.add('colab-df-quickchart-complete');\n",
              "    }\n",
              "    (() => {\n",
              "      let quickchartButtonEl =\n",
              "        document.querySelector('#df-dc107b9d-097c-4338-8630-9f7f3984c106 button');\n",
              "      quickchartButtonEl.style.display =\n",
              "        google.colab.kernel.accessAllowed ? 'block' : 'none';\n",
              "    })();\n",
              "  </script>\n",
              "</div>\n",
              "    </div>\n",
              "  </div>\n"
            ]
          },
          "metadata": {},
          "execution_count": 18
        }
      ]
    },
    {
      "cell_type": "code",
      "source": [
        "# Extracting relevant columns\n",
        "intervention_HS_6_2022 = Grade_67_HS['Days Absent (2022)']\n",
        "no_intervention_HS_7_2023 = Grade_67_HS['Days Absent (2023)']\n",
        "\n",
        "intervention_HS_7_2022 = Grade_78_HS['Days Absent (2022)']\n",
        "no_intervention_HS_8_2023 = Grade_78_HS['Days Absent (2023)']"
      ],
      "metadata": {
        "id": "ruKpNpFc1GHL"
      },
      "execution_count": 19,
      "outputs": []
    },
    {
      "cell_type": "markdown",
      "source": [
        "**Checking normality assumption**"
      ],
      "metadata": {
        "id": "BKsRnNHX1RVn"
      }
    },
    {
      "cell_type": "code",
      "source": [
        "# Grade 7 2023\n",
        "differences_HS_67 = no_intervention_HS_7_2023 - intervention_HS_6_2022\n",
        "\n",
        "statistic_HS_67, p_value_nHS_67 = shapiro(differences_HS_67)\n",
        "\n",
        "# Check the p-value\n",
        "if p_value_nHS_67 > 0.05:\n",
        "    print(\"The differences are approximately normally distributed (p > 0.05)\")\n",
        "else:\n",
        "    print(\"The differences are not normally distributed (p <= 0.05)\")"
      ],
      "metadata": {
        "colab": {
          "base_uri": "https://localhost:8080/"
        },
        "id": "O_ityTUz1aN-",
        "outputId": "fe9307a7-55fa-4c1f-978a-b108686b137a"
      },
      "execution_count": 20,
      "outputs": [
        {
          "output_type": "stream",
          "name": "stdout",
          "text": [
            "The differences are not normally distributed (p <= 0.05)\n"
          ]
        }
      ]
    },
    {
      "cell_type": "code",
      "source": [
        "# A QQ Plot to visualize this\n",
        "import statsmodels.api as sm\n",
        "\n",
        "differences_HS_67_new = np.array(differences_HS_67)\n",
        "\n",
        "# Generate a theoretical normal distribution for comparison\n",
        "mean, std_dev = np.mean(differences_HS_67_new), np.std(differences_HS_67_new)\n",
        "theoretical_normal = np.random.normal(mean, std_dev, len(differences_HS_67_new))\n",
        "\n",
        "# Create the Q-Q plot\n",
        "qqplot = sm.qqplot(differences_HS_67_new, line='s')\n",
        "\n",
        "# Add a title\n",
        "plt.title(\"Q-Q Plot for Horseed Primary Grade 7 2023\")\n",
        "\n",
        "# Show the plot\n",
        "plt.show()\n"
      ],
      "metadata": {
        "colab": {
          "base_uri": "https://localhost:8080/",
          "height": 472
        },
        "id": "FPfYz46C1ncJ",
        "outputId": "980bbf7c-3aeb-45a2-f812-7e0624458e78"
      },
      "execution_count": 21,
      "outputs": [
        {
          "output_type": "display_data",
          "data": {
            "text/plain": [
              "<Figure size 640x480 with 1 Axes>"
            ],
            "image/png": "[encoded data removed]"
          },
          "metadata": {}
        }
      ]
    },
    {
      "cell_type": "code",
      "source": [
        "# Grade 8 2023\n",
        "differences_HS_78 = no_intervention_HS_8_2023 - intervention_HS_7_2022\n",
        "\n",
        "statistic_HS_78, p_value_nHS_78 = shapiro(differences_HS_78)\n",
        "\n",
        "#Chech p-value\n",
        "\n",
        "if p_value_nHS_78 > 0.05:\n",
        "    print(\"The differences are approximately normally distributed (p > 0.05)\")\n",
        "else:\n",
        "    print(\"The differences are not normally distributed (p <= 0.05)\")"
      ],
      "metadata": {
        "colab": {
          "base_uri": "https://localhost:8080/"
        },
        "id": "xaPmSMFE19zj",
        "outputId": "e52d378b-bc54-4107-983a-14a2ab2ce10f"
      },
      "execution_count": 22,
      "outputs": [
        {
          "output_type": "stream",
          "name": "stdout",
          "text": [
            "The differences are not normally distributed (p <= 0.05)\n"
          ]
        }
      ]
    },
    {
      "cell_type": "code",
      "source": [
        "# A QQ Plot to visualize this\n",
        "differences_HS_78_new = np.array(differences_HS_78)\n",
        "\n",
        "# Generate a theoretical normal distribution for comparison\n",
        "mean, std_dev = np.mean(differences_HS_78_new), np.std(differences_HS_78_new)\n",
        "theoretical_normal = np.random.normal(mean, std_dev, len(differences_HS_78_new))\n",
        "\n",
        "# Create the Q-Q plot\n",
        "qqplot = sm.qqplot(differences_HS_78_new, line='s')\n",
        "\n",
        "# Add a title\n",
        "plt.title(\"Q-Q Plot for Horseed Primary Grade 8 2023\")\n",
        "\n",
        "# Show the plot\n",
        "plt.show()\n"
      ],
      "metadata": {
        "colab": {
          "base_uri": "https://localhost:8080/",
          "height": 472
        },
        "id": "n5ruoa8o2KzH",
        "outputId": "80703e4a-403c-44cc-87ee-a22f6117e912"
      },
      "execution_count": 23,
      "outputs": [
        {
          "output_type": "display_data",
          "data": {
            "text/plain": [
              "<Figure size 640x480 with 1 Axes>"
            ],
            "image/png": "[encoded data removed]"
          },
          "metadata": {}
        }
      ]
    },
    {
      "cell_type": "markdown",
      "source": [
        "**Since both Grade 7 2023 and Grade 8 2023 comparisons don't meet the normality assumption, we will use the Wilcoxon Signed-rank test**"
      ],
      "metadata": {
        "id": "fdNz5X1d4xNX"
      }
    },
    {
      "cell_type": "code",
      "source": [
        "# Wilcoxon signed-rank test for Grade 7 2023\n",
        "statistic_HS_67, p_value_HS_67 = wilcoxon(intervention_HS_6_2022, no_intervention_HS_7_2023)\n",
        "\n",
        "# Print the t-statistic and p-value\n",
        "print(f\"T-statistic: {statistic_HS_67}\")\n",
        "print(f\"P-value: {p_value_HS_67}\")\n",
        "\n",
        "# Define the significance level (alpha)\n",
        "alpha = 0.05\n",
        "\n",
        "# Compare the p-value with alpha to make a decision\n",
        "if p_value_HS_67 < alpha:\n",
        "    print(\"Reject the null hypothesis (There is a significant difference)\")\n",
        "else:\n",
        "    print(\"Fail to reject the null hypothesis (No significant difference)\")\n",
        "\n",
        "\n",
        "# The magnitude of the t-statistic is important. Generally,\n",
        "# a larger absolute value of the t-statistic suggests a stronger evidence against the null hypothesis.\n",
        "# In this case, a t-statistic of -11.72 is quite large, indicating a significant difference."
      ],
      "metadata": {
        "colab": {
          "base_uri": "https://localhost:8080/"
        },
        "id": "7HgWfizp4wi7",
        "outputId": "e1971e5a-2b0d-46c3-8564-495f6b1476e4"
      },
      "execution_count": 24,
      "outputs": [
        {
          "output_type": "stream",
          "name": "stdout",
          "text": [
            "T-statistic: 81.0\n",
            "P-value: 0.008215054869651794\n",
            "Reject the null hypothesis (There is a significant difference)\n"
          ]
        }
      ]
    },
    {
      "cell_type": "code",
      "source": [
        "# Wilcoxon signed-rank test for Grade 8 2023\n",
        "statistic_HS_78, p_value_HS_78 = wilcoxon(intervention_HS_7_2022, no_intervention_HS_8_2023)\n",
        "\n",
        "# Print the test statistic and p-value\n",
        "print(f\"Test Statistic: {statistic_HS_78}\")\n",
        "print(f\"P-value: {p_value_HS_78}\")\n",
        "\n",
        "# Define the significance level (alpha)\n",
        "alpha = 0.05\n",
        "\n",
        "# Compare the p-value with alpha to make a decision\n",
        "if p_value_HS_78 < alpha:\n",
        "    print(\"Reject the null hypothesis (There is a significant difference)\")\n",
        "else:\n",
        "    print(\"Fail to reject the null hypothesis (No significant difference)\")\n"
      ],
      "metadata": {
        "colab": {
          "base_uri": "https://localhost:8080/"
        },
        "id": "i3dOzEqV5YGZ",
        "outputId": "3b8d3f87-a18d-4f74-fbc5-04ff9888c448"
      },
      "execution_count": 25,
      "outputs": [
        {
          "output_type": "stream",
          "name": "stdout",
          "text": [
            "Test Statistic: 167.5\n",
            "P-value: 0.07051896114670657\n",
            "Fail to reject the null hypothesis (No significant difference)\n"
          ]
        },
        {
          "output_type": "stream",
          "name": "stderr",
          "text": [
            "/usr/local/lib/python3.10/dist-packages/scipy/stats/_morestats.py:4088: UserWarning: Exact p-value calculation does not work if there are zeros. Switching to normal approximation.\n",
            "  warnings.warn(\"Exact p-value calculation does not work if there are \"\n"
          ]
        }
      ]
    },
    {
      "cell_type": "markdown",
      "source": [
        "**A Graph to show the change in the rate of number of days absent for both grades**\n",
        "\n",
        "\n"
      ],
      "metadata": {
        "id": "dDDMsTU35ynX"
      }
    },
    {
      "cell_type": "code",
      "source": [
        "# # Create a figure with subplots\n",
        "# fig, axs = plt.subplots(1, 2, figsize=(12, 5))\n",
        "\n",
        "# # Grade 7 2023\n",
        "# axs[0].plot(sorted(differences_HS_67), color='red')\n",
        "# axs[0].set_xlabel('Number of students')\n",
        "# axs[0].set_ylabel('Change in days absent')\n",
        "# axs[0].set_title('Change in days absent for Grade 7 2023 compared to Grade 6 2022')\n",
        "\n",
        "# # Grade 8 2023\n",
        "# axs[1].plot(sorted(differences_HS_78), color='blue')\n",
        "# axs[1].set_xlabel('Number of students')\n",
        "# axs[1].set_ylabel('Change in days absent')\n",
        "# axs[1].set_title('Change in days absent for Grade 8 2023 compared to Grade 7 2022')\n",
        "\n",
        "# # Adjust layout to prevent overlapping\n",
        "# plt.tight_layout()\n",
        "\n",
        "# # Show the plot\n",
        "# plt.show()\n"
      ],
      "metadata": {
        "id": "rTOxsBDr5zx9"
      },
      "execution_count": 26,
      "outputs": []
    },
    {
      "cell_type": "markdown",
      "source": [
        "**3). VISION SECONDARY SCHOOL KAKUMA**\n"
      ],
      "metadata": {
        "id": "DBDS0gOMQJ5u"
      }
    },
    {
      "cell_type": "code",
      "source": [
        "Form_23_VS.head()"
      ],
      "metadata": {
        "colab": {
          "base_uri": "https://localhost:8080/",
          "height": 310
        },
        "id": "MvLYL0I2QVUI",
        "outputId": "0925ac57-a325-4731-a33e-ee65326a23cb"
      },
      "execution_count": 9,
      "outputs": [
        {
          "output_type": "execute_result",
          "data": {
            "text/plain": [
              "                NAME  School Days (2022)  Days Absent (2022)  \\\n",
              "0  Nyabire Everlyine                  54                   8   \n",
              "1    HAalima Asukulo                  54                   8   \n",
              "2  Nyakenya Gatkuoth                  54                   8   \n",
              "3     Nyachok Kulang                  54                   8   \n",
              "4     Nyasunday Both                  54                   8   \n",
              "\n",
              "   Days Present (2022)  Absentisim rate (2022)  School Days (2023)  \\\n",
              "0                   46               14.814815                  60   \n",
              "1                   46               14.814815                  60   \n",
              "2                   46               14.814815                  60   \n",
              "3                   46               14.814815                  60   \n",
              "4                   46               14.814815                  60   \n",
              "\n",
              "   Days Absent (2023)  Days Present (2023)  Absentisim rate (2023)  \n",
              "0                  51                    9               85.000000  \n",
              "1                  11                   49               18.333333  \n",
              "2                  11                   49               18.333333  \n",
              "3                  11                   49               18.333333  \n",
              "4                  15                   45               25.000000  "
            ],
            "text/html": [
              "\n",
              "  <div id=\"df-839104d0-0169-4779-adf1-5a909d1f781d\" class=\"colab-df-container\">\n",
              "    <div>\n",
              "<style scoped>\n",
              "    .dataframe tbody tr th:only-of-type {\n",
              "        vertical-align: middle;\n",
              "    }\n",
              "\n",
              "    .dataframe tbody tr th {\n",
              "        vertical-align: top;\n",
              "    }\n",
              "\n",
              "    .dataframe thead th {\n",
              "        text-align: right;\n",
              "    }\n",
              "</style>\n",
              "<table border=\"1\" class=\"dataframe\">\n",
              "  <thead>\n",
              "    <tr style=\"text-align: right;\">\n",
              "      <th></th>\n",
              "      <th>NAME</th>\n",
              "      <th>School Days (2022)</th>\n",
              "      <th>Days Absent (2022)</th>\n",
              "      <th>Days Present (2022)</th>\n",
              "      <th>Absentisim rate (2022)</th>\n",
              "      <th>School Days (2023)</th>\n",
              "      <th>Days Absent (2023)</th>\n",
              "      <th>Days Present (2023)</th>\n",
              "      <th>Absentisim rate (2023)</th>\n",
              "    </tr>\n",
              "  </thead>\n",
              "  <tbody>\n",
              "    <tr>\n",
              "      <th>0</th>\n",
              "      <td>Nyabire Everlyine</td>\n",
              "      <td>54</td>\n",
              "      <td>8</td>\n",
              "      <td>46</td>\n",
              "      <td>14.814815</td>\n",
              "      <td>60</td>\n",
              "      <td>51</td>\n",
              "      <td>9</td>\n",
              "      <td>85.000000</td>\n",
              "    </tr>\n",
              "    <tr>\n",
              "      <th>1</th>\n",
              "      <td>HAalima Asukulo</td>\n",
              "      <td>54</td>\n",
              "      <td>8</td>\n",
              "      <td>46</td>\n",
              "      <td>14.814815</td>\n",
              "      <td>60</td>\n",
              "      <td>11</td>\n",
              "      <td>49</td>\n",
              "      <td>18.333333</td>\n",
              "    </tr>\n",
              "    <tr>\n",
              "      <th>2</th>\n",
              "      <td>Nyakenya Gatkuoth</td>\n",
              "      <td>54</td>\n",
              "      <td>8</td>\n",
              "      <td>46</td>\n",
              "      <td>14.814815</td>\n",
              "      <td>60</td>\n",
              "      <td>11</td>\n",
              "      <td>49</td>\n",
              "      <td>18.333333</td>\n",
              "    </tr>\n",
              "    <tr>\n",
              "      <th>3</th>\n",
              "      <td>Nyachok Kulang</td>\n",
              "      <td>54</td>\n",
              "      <td>8</td>\n",
              "      <td>46</td>\n",
              "      <td>14.814815</td>\n",
              "      <td>60</td>\n",
              "      <td>11</td>\n",
              "      <td>49</td>\n",
              "      <td>18.333333</td>\n",
              "    </tr>\n",
              "    <tr>\n",
              "      <th>4</th>\n",
              "      <td>Nyasunday Both</td>\n",
              "      <td>54</td>\n",
              "      <td>8</td>\n",
              "      <td>46</td>\n",
              "      <td>14.814815</td>\n",
              "      <td>60</td>\n",
              "      <td>15</td>\n",
              "      <td>45</td>\n",
              "      <td>25.000000</td>\n",
              "    </tr>\n",
              "  </tbody>\n",
              "</table>\n",
              "</div>\n",
              "    <div class=\"colab-df-buttons\">\n",
              "\n",
              "  <div class=\"colab-df-container\">\n",
              "    <button class=\"colab-df-convert\" onclick=\"convertToInteractive('df-839104d0-0169-4779-adf1-5a909d1f781d')\"\n",
              "            title=\"Convert this dataframe to an interactive table.\"\n",
              "            style=\"display:none;\">\n",
              "\n",
              "  <svg xmlns=\"http://www.w3.org/2000/svg\" height=\"24px\" viewBox=\"0 -960 960 960\">\n",
              "    <path d=\"M120-120v-720h720v720H120Zm60-500h600v-160H180v160Zm220 220h160v-160H400v160Zm0 220h160v-160H400v160ZM180-400h160v-160H180v160Zm440 0h160v-160H620v160ZM180-180h160v-160H180v160Zm440 0h160v-160H620v160Z\"/>\n",
              "  </svg>\n",
              "    </button>\n",
              "\n",
              "  <style>\n",
              "    .colab-df-container {\n",
              "      display:flex;\n",
              "      gap: 12px;\n",
              "    }\n",
              "\n",
              "    .colab-df-convert {\n",
              "      background-color: #E8F0FE;\n",
              "      border: none;\n",
              "      border-radius: 50%;\n",
              "      cursor: pointer;\n",
              "      display: none;\n",
              "      fill: #1967D2;\n",
              "      height: 32px;\n",
              "      padding: 0 0 0 0;\n",
              "      width: 32px;\n",
              "    }\n",
              "\n",
              "    .colab-df-convert:hover {\n",
              "      background-color: #E2EBFA;\n",
              "      box-shadow: 0px 1px 2px rgba(60, 64, 67, 0.3), 0px 1px 3px 1px rgba(60, 64, 67, 0.15);\n",
              "      fill: #174EA6;\n",
              "    }\n",
              "\n",
              "    .colab-df-buttons div {\n",
              "      margin-bottom: 4px;\n",
              "    }\n",
              "\n",
              "    [theme=dark] .colab-df-convert {\n",
              "      background-color: #3B4455;\n",
              "      fill: #D2E3FC;\n",
              "    }\n",
              "\n",
              "    [theme=dark] .colab-df-convert:hover {\n",
              "      background-color: #434B5C;\n",
              "      box-shadow: 0px 1px 3px 1px rgba(0, 0, 0, 0.15);\n",
              "      filter: drop-shadow(0px 1px 2px rgba(0, 0, 0, 0.3));\n",
              "      fill: #FFFFFF;\n",
              "    }\n",
              "  </style>\n",
              "\n",
              "    <script>\n",
              "      const buttonEl =\n",
              "        document.querySelector('#df-839104d0-0169-4779-adf1-5a909d1f781d button.colab-df-convert');\n",
              "      buttonEl.style.display =\n",
              "        google.colab.kernel.accessAllowed ? 'block' : 'none';\n",
              "\n",
              "      async function convertToInteractive(key) {\n",
              "        const element = document.querySelector('#df-839104d0-0169-4779-adf1-5a909d1f781d');\n",
              "        const dataTable =\n",
              "          await google.colab.kernel.invokeFunction('convertToInteractive',\n",
              "                                                    [key], {});\n",
              "        if (!dataTable) return;\n",
              "\n",
              "        const docLinkHtml = 'Like what you see? Visit the ' +\n",
              "          '<a target=\"_blank\" href=https://colab.research.google.com/notebooks/data_table.ipynb>data table notebook</a>'\n",
              "          + ' to learn more about interactive tables.';\n",
              "        element.innerHTML = '';\n",
              "        dataTable['output_type'] = 'display_data';\n",
              "        await google.colab.output.renderOutput(dataTable, element);\n",
              "        const docLink = document.createElement('div');\n",
              "        docLink.innerHTML = docLinkHtml;\n",
              "        element.appendChild(docLink);\n",
              "      }\n",
              "    </script>\n",
              "  </div>\n",
              "\n",
              "\n",
              "<div id=\"df-e16f1c95-c900-41fc-a1e4-212bcbdd64f4\">\n",
              "  <button class=\"colab-df-quickchart\" onclick=\"quickchart('df-e16f1c95-c900-41fc-a1e4-212bcbdd64f4')\"\n",
              "            title=\"Suggest charts.\"\n",
              "            style=\"display:none;\">\n",
              "\n",
              "<svg xmlns=\"http://www.w3.org/2000/svg\" height=\"24px\"viewBox=\"0 0 24 24\"\n",
              "     width=\"24px\">\n",
              "    <g>\n",
              "        <path d=\"M19 3H5c-1.1 0-2 .9-2 2v14c0 1.1.9 2 2 2h14c1.1 0 2-.9 2-2V5c0-1.1-.9-2-2-2zM9 17H7v-7h2v7zm4 0h-2V7h2v10zm4 0h-2v-4h2v4z\"/>\n",
              "    </g>\n",
              "</svg>\n",
              "  </button>\n",
              "\n",
              "<style>\n",
              "  .colab-df-quickchart {\n",
              "      --bg-color: #E8F0FE;\n",
              "      --fill-color: #1967D2;\n",
              "      --hover-bg-color: #E2EBFA;\n",
              "      --hover-fill-color: #174EA6;\n",
              "      --disabled-fill-color: #AAA;\n",
              "      --disabled-bg-color: #DDD;\n",
              "  }\n",
              "\n",
              "  [theme=dark] .colab-df-quickchart {\n",
              "      --bg-color: #3B4455;\n",
              "      --fill-color: #D2E3FC;\n",
              "      --hover-bg-color: #434B5C;\n",
              "      --hover-fill-color: #FFFFFF;\n",
              "      --disabled-bg-color: #3B4455;\n",
              "      --disabled-fill-color: #666;\n",
              "  }\n",
              "\n",
              "  .colab-df-quickchart {\n",
              "    background-color: var(--bg-color);\n",
              "    border: none;\n",
              "    border-radius: 50%;\n",
              "    cursor: pointer;\n",
              "    display: none;\n",
              "    fill: var(--fill-color);\n",
              "    height: 32px;\n",
              "    padding: 0;\n",
              "    width: 32px;\n",
              "  }\n",
              "\n",
              "  .colab-df-quickchart:hover {\n",
              "    background-color: var(--hover-bg-color);\n",
              "    box-shadow: 0 1px 2px rgba(60, 64, 67, 0.3), 0 1px 3px 1px rgba(60, 64, 67, 0.15);\n",
              "    fill: var(--button-hover-fill-color);\n",
              "  }\n",
              "\n",
              "  .colab-df-quickchart-complete:disabled,\n",
              "  .colab-df-quickchart-complete:disabled:hover {\n",
              "    background-color: var(--disabled-bg-color);\n",
              "    fill: var(--disabled-fill-color);\n",
              "    box-shadow: none;\n",
              "  }\n",
              "\n",
              "  .colab-df-spinner {\n",
              "    border: 2px solid var(--fill-color);\n",
              "    border-color: transparent;\n",
              "    border-bottom-color: var(--fill-color);\n",
              "    animation:\n",
              "      spin 1s steps(1) infinite;\n",
              "  }\n",
              "\n",
              "  @keyframes spin {\n",
              "    0% {\n",
              "      border-color: transparent;\n",
              "      border-bottom-color: var(--fill-color);\n",
              "      border-left-color: var(--fill-color);\n",
              "    }\n",
              "    20% {\n",
              "      border-color: transparent;\n",
              "      border-left-color: var(--fill-color);\n",
              "      border-top-color: var(--fill-color);\n",
              "    }\n",
              "    30% {\n",
              "      border-color: transparent;\n",
              "      border-left-color: var(--fill-color);\n",
              "      border-top-color: var(--fill-color);\n",
              "      border-right-color: var(--fill-color);\n",
              "    }\n",
              "    40% {\n",
              "      border-color: transparent;\n",
              "      border-right-color: var(--fill-color);\n",
              "      border-top-color: var(--fill-color);\n",
              "    }\n",
              "    60% {\n",
              "      border-color: transparent;\n",
              "      border-right-color: var(--fill-color);\n",
              "    }\n",
              "    80% {\n",
              "      border-color: transparent;\n",
              "      border-right-color: var(--fill-color);\n",
              "      border-bottom-color: var(--fill-color);\n",
              "    }\n",
              "    90% {\n",
              "      border-color: transparent;\n",
              "      border-bottom-color: var(--fill-color);\n",
              "    }\n",
              "  }\n",
              "</style>\n",
              "\n",
              "  <script>\n",
              "    async function quickchart(key) {\n",
              "      const quickchartButtonEl =\n",
              "        document.querySelector('#' + key + ' button');\n",
              "      quickchartButtonEl.disabled = true;  // To prevent multiple clicks.\n",
              "      quickchartButtonEl.classList.add('colab-df-spinner');\n",
              "      try {\n",
              "        const charts = await google.colab.kernel.invokeFunction(\n",
              "            'suggestCharts', [key], {});\n",
              "      } catch (error) {\n",
              "        console.error('Error during call to suggestCharts:', error);\n",
              "      }\n",
              "      quickchartButtonEl.classList.remove('colab-df-spinner');\n",
              "      quickchartButtonEl.classList.add('colab-df-quickchart-complete');\n",
              "    }\n",
              "    (() => {\n",
              "      let quickchartButtonEl =\n",
              "        document.querySelector('#df-e16f1c95-c900-41fc-a1e4-212bcbdd64f4 button');\n",
              "      quickchartButtonEl.style.display =\n",
              "        google.colab.kernel.accessAllowed ? 'block' : 'none';\n",
              "    })();\n",
              "  </script>\n",
              "</div>\n",
              "    </div>\n",
              "  </div>\n"
            ]
          },
          "metadata": {},
          "execution_count": 9
        }
      ]
    },
    {
      "cell_type": "code",
      "source": [
        "# Extracting relevant columns\n",
        "intervention_VS_2_2022 = Form_23_VS['Days Absent (2022)']\n",
        "no_intervention_VS_3_2023 = Form_23_VS['Days Absent (2023)']\n"
      ],
      "metadata": {
        "id": "w2iVOKDQQh2F"
      },
      "execution_count": 10,
      "outputs": []
    },
    {
      "cell_type": "markdown",
      "source": [
        "**Checking normality assumption**"
      ],
      "metadata": {
        "id": "lishnae8Q24R"
      }
    },
    {
      "cell_type": "code",
      "source": [
        "# Form 3 2023\n",
        "differences_VS_23 = no_intervention_VS_3_2023 - intervention_VS_2_2022\n",
        "\n",
        "statistic_VS_23, p_value_nVS_23 = shapiro(differences_VS_23)\n",
        "\n",
        "# Check the p-value\n",
        "if p_value_nVS_23 > 0.05:\n",
        "    print(\"The differences are approximately normally distributed (p > 0.05)\")\n",
        "else:\n",
        "    print(\"The differences are not normally distributed (p <= 0.05)\")"
      ],
      "metadata": {
        "colab": {
          "base_uri": "https://localhost:8080/"
        },
        "id": "dBsR-CyHQ2c3",
        "outputId": "19518719-4013-4003-ad04-9c2a83c07912"
      },
      "execution_count": 13,
      "outputs": [
        {
          "output_type": "stream",
          "name": "stdout",
          "text": [
            "The differences are approximately normally distributed (p > 0.05)\n"
          ]
        }
      ]
    },
    {
      "cell_type": "code",
      "source": [
        "# A QQ Plot to visualize this\n",
        "import statsmodels.api as sm\n",
        "\n",
        "differences_VS_23_new = np.array(differences_VS_23)\n",
        "\n",
        "# Generate a theoretical normal distribution for comparison\n",
        "mean, std_dev = np.mean(differences_VS_23_new), np.std(differences_VS_23_new)\n",
        "theoretical_normal = np.random.normal(mean, std_dev, len(differences_VS_23_new))\n",
        "\n",
        "# Create the Q-Q plot\n",
        "qqplot = sm.qqplot(differences_VS_23_new, line='s')\n",
        "\n",
        "# Add a title\n",
        "plt.title(\"Q-Q Plot for Vision Secondary School Form 3 2023\")\n",
        "\n",
        "# Show the plot\n",
        "plt.show()\n"
      ],
      "metadata": {
        "colab": {
          "base_uri": "https://localhost:8080/",
          "height": 472
        },
        "id": "fco9b_PKReWk",
        "outputId": "ec37de8a-0d45-41b2-8073-eec87e894058"
      },
      "execution_count": 14,
      "outputs": [
        {
          "output_type": "display_data",
          "data": {
            "text/plain": [
              "<Figure size 640x480 with 1 Axes>"
            ],
            "image/png": "[encoded data removed]"
          },
          "metadata": {}
        }
      ]
    },
    {
      "cell_type": "markdown",
      "source": [
        "**Since the data is normaly distributed, we will use the Paired t-test to check for the hypothesis**"
      ],
      "metadata": {
        "id": "imhc5o0xR5WO"
      }
    },
    {
      "cell_type": "code",
      "source": [
        "# Perform a paired t-test\n",
        "t_statistic, p_value = stats.ttest_rel(intervention_VS_2_2022, no_intervention_VS_3_2023)\n",
        "\n",
        "# Print the results\n",
        "print(f\"T-statistic: {t_statistic}\")\n",
        "print(f\"P-value: {p_value}\")\n",
        "\n",
        "# Check if the difference is statistically significant\n",
        "alpha = 0.05\n",
        "if p_value < alpha:\n",
        "    print(\"The difference is statistically significant (reject null hypothesis)\")\n",
        "else:\n",
        "    print(\"The difference is not statistically significant (fail to reject null hypothesis)\")\n"
      ],
      "metadata": {
        "colab": {
          "base_uri": "https://localhost:8080/"
        },
        "id": "GdSq1OYAR1rW",
        "outputId": "b8948475-708f-4d96-8f10-5b04686a5678"
      },
      "execution_count": 15,
      "outputs": [
        {
          "output_type": "stream",
          "name": "stdout",
          "text": [
            "T-statistic: -4.68963660740564\n",
            "P-value: 6.006171967422237e-05\n",
            "The difference is statistically significant (reject null hypothesis)\n"
          ]
        }
      ]
    }
  ]
}